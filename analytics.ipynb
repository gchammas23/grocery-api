{
 "cells": [
  {
   "cell_type": "code",
   "id": "initial_id",
   "metadata": {
    "collapsed": true,
    "ExecuteTime": {
     "end_time": "2025-07-22T22:58:43.435895Z",
     "start_time": "2025-07-22T22:58:41.348221Z"
    }
   },
   "source": "!pip install matplotlib psycopg2-binary",
   "outputs": [
    {
     "name": "stdout",
     "output_type": "stream",
     "text": [
      "Requirement already satisfied: matplotlib in /opt/anaconda3/lib/python3.12/site-packages (3.8.4)\r\n",
      "Requirement already satisfied: psycopg2-binary in /opt/anaconda3/lib/python3.12/site-packages (2.9.10)\r\n",
      "Requirement already satisfied: contourpy>=1.0.1 in /opt/anaconda3/lib/python3.12/site-packages (from matplotlib) (1.2.0)\r\n",
      "Requirement already satisfied: cycler>=0.10 in /opt/anaconda3/lib/python3.12/site-packages (from matplotlib) (0.11.0)\r\n",
      "Requirement already satisfied: fonttools>=4.22.0 in /opt/anaconda3/lib/python3.12/site-packages (from matplotlib) (4.51.0)\r\n",
      "Requirement already satisfied: kiwisolver>=1.3.1 in /opt/anaconda3/lib/python3.12/site-packages (from matplotlib) (1.4.4)\r\n",
      "Requirement already satisfied: numpy>=1.21 in /opt/anaconda3/lib/python3.12/site-packages (from matplotlib) (1.26.4)\r\n",
      "Requirement already satisfied: packaging>=20.0 in /opt/anaconda3/lib/python3.12/site-packages (from matplotlib) (23.2)\r\n",
      "Requirement already satisfied: pillow>=8 in /opt/anaconda3/lib/python3.12/site-packages (from matplotlib) (10.3.0)\r\n",
      "Requirement already satisfied: pyparsing>=2.3.1 in /opt/anaconda3/lib/python3.12/site-packages (from matplotlib) (3.0.9)\r\n",
      "Requirement already satisfied: python-dateutil>=2.7 in /opt/anaconda3/lib/python3.12/site-packages (from matplotlib) (2.9.0.post0)\r\n",
      "Requirement already satisfied: six>=1.5 in /opt/anaconda3/lib/python3.12/site-packages (from python-dateutil>=2.7->matplotlib) (1.16.0)\r\n"
     ]
    }
   ],
   "execution_count": 6
  },
  {
   "metadata": {
    "ExecuteTime": {
     "end_time": "2025-07-22T23:01:31.456258Z",
     "start_time": "2025-07-22T23:01:31.405217Z"
    }
   },
   "cell_type": "code",
   "source": [
    "# Import all needed packages\n",
    "import matplotlib.pyplot as plt\n",
    "import psycopg2 # Used as an adapter to connect with Postgres Databases"
   ],
   "id": "caf7d4ab885755a5",
   "outputs": [],
   "execution_count": 8
  },
  {
   "metadata": {
    "ExecuteTime": {
     "end_time": "2025-07-22T23:03:10.021487Z",
     "start_time": "2025-07-22T23:03:09.371910Z"
    }
   },
   "cell_type": "code",
   "source": [
    "# Start by connecting to the DB (Hard code credentials, could be switched to env for more safety later on)\n",
    "connection = psycopg2.connect(\n",
    "    host=\"localhost\",\n",
    "    port=\"5432\",\n",
    "    dbname=\"grocery-api\",\n",
    "    user=\"postgres\",\n",
    "    password=\"admin\"\n",
    ")"
   ],
   "id": "c99d9b4b7d543cb5",
   "outputs": [],
   "execution_count": 10
  },
  {
   "metadata": {
    "ExecuteTime": {
     "end_time": "2025-07-22T23:07:10.142655Z",
     "start_time": "2025-07-22T23:07:10.107346Z"
    }
   },
   "cell_type": "code",
   "source": [
    "# Fetch the top 5 items\n",
    "with connection.cursor() as cursor:\n",
    "    cursor.execute(\"\"\"\n",
    "      SELECT name, COUNT(*) AS count\n",
    "      FROM items\n",
    "\t    GROUP BY name\n",
    "\t    ORDER BY count DESC\n",
    "\t    LIMIT 5\n",
    "    \"\"\")\n",
    "\n",
    "    data = cursor.fetchall()\n",
    "\n",
    "names, counts = zip(*data) # Zip the names and counts from the cursor data that we fetched\n",
    "\n",
    "# Close the connection after getting the data we need\n",
    "connection.close()"
   ],
   "id": "f39942c65ede3f80",
   "outputs": [],
   "execution_count": 14
  },
  {
   "metadata": {
    "ExecuteTime": {
     "end_time": "2025-07-22T23:07:10.837473Z",
     "start_time": "2025-07-22T23:07:10.759140Z"
    }
   },
   "cell_type": "code",
   "source": [
    "# Plot the data that we found\n",
    "plt.bar(names, counts)\n",
    "plt.title(\"Top 5 Grocery items\")\n",
    "plt.xlabel(\"Item Name\")\n",
    "plt.ylabel(\"Item Count\")\n",
    "plt.show()"
   ],
   "id": "3b89f98e039c6e08",
   "outputs": [
    {
     "data": {
      "text/plain": [
       "<Figure size 640x480 with 1 Axes>"
      ],
      "image/png": "[encoded data removed]"
     },
     "metadata": {},
     "output_type": "display_data"
    }
   ],
   "execution_count": 15
  },
  {
   "metadata": {},
   "cell_type": "code",
   "outputs": [],
   "execution_count": null,
   "source": "",
   "id": "46ba95df2957a5c6"
  }
 ],
 "metadata": {
  "kernelspec": {
   "display_name": "Python 3",
   "language": "python",
   "name": "python3"
  },
  "language_info": {
   "codemirror_mode": {
    "name": "ipython",
    "version": 2
   },
   "file_extension": ".py",
   "mimetype": "text/x-python",
   "name": "python",
   "nbconvert_exporter": "python",
   "pygments_lexer": "ipython2",
   "version": "2.7.6"
  }
 },
 "nbformat": 4,
 "nbformat_minor": 5
}
